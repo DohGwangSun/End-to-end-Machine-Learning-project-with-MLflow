{
 "cells": [
  {
   "cell_type": "code",
   "execution_count": 1,
   "metadata": {},
   "outputs": [],
   "source": [
    "import os"
   ]
  },
  {
   "cell_type": "code",
   "execution_count": 2,
   "metadata": {},
   "outputs": [
    {
     "data": {
      "text/plain": [
       "'c:\\\\Users\\\\user\\\\Krish_Naik_ML\\\\End-to-end-Machine-Learning-project-with-MLflow\\\\research'"
      ]
     },
     "execution_count": 2,
     "metadata": {},
     "output_type": "execute_result"
    }
   ],
   "source": [
    "%pwd"
   ]
  },
  {
   "cell_type": "code",
   "execution_count": 3,
   "metadata": {},
   "outputs": [],
   "source": [
    "os.chdir('../')"
   ]
  },
  {
   "cell_type": "code",
   "execution_count": 4,
   "metadata": {},
   "outputs": [
    {
     "data": {
      "text/plain": [
       "'c:\\\\Users\\\\user\\\\Krish_Naik_ML\\\\End-to-end-Machine-Learning-project-with-MLflow'"
      ]
     },
     "execution_count": 4,
     "metadata": {},
     "output_type": "execute_result"
    }
   ],
   "source": [
    "%pwd"
   ]
  },
  {
   "cell_type": "code",
   "execution_count": 5,
   "metadata": {},
   "outputs": [],
   "source": [
    "os.environ[\"MLFLOW_TRACKING_URI\"]=\"https://dagshub.com/appdoh2007/End-to-end-Machine-Learning-project-with-MLflow.mlflow\"\n",
    "os.environ[\"MLFLOW_TRACKING_USERNAME\"]=\"appdoh2007\"\n",
    "os.environ[\"MLFLOW_TRACKING_PASSWORD\"]=\"f76f1a3b23dcdf412ca6ac528bedb975c5c8de007\""
   ]
  },
  {
   "cell_type": "code",
   "execution_count": 15,
   "metadata": {},
   "outputs": [],
   "source": [
    "from dataclasses import dataclass\n",
    "from pathlib import Path\n",
    "\n",
    "@dataclass(frozen=True)\n",
    "class ModelEvaluationConfig:\n",
    "   root_dir: Path\n",
    "   test_data_path: Path\n",
    "   model_path: Path\n",
    "   all_params: dict\n",
    "   metric_file_name: Path\n",
    "   target_column: str\n",
    "   mlflow_uri: str"
   ]
  },
  {
   "cell_type": "code",
   "execution_count": 16,
   "metadata": {},
   "outputs": [],
   "source": [
    "from src.mlProject.constants import *\n",
    "from src.mlProject.utils.common import read_yaml, create_directories"
   ]
  },
  {
   "cell_type": "code",
   "execution_count": 21,
   "metadata": {},
   "outputs": [],
   "source": [
    "class ConfigurationManager:\n",
    "   def __init__(\n",
    "      self,\n",
    "      config_filepath = CONFIG_FILE_PATH,\n",
    "      params_filepath = PARAMS_FILE_PATH,\n",
    "      schema_filepath = SCHEMA_FILE_PATH):\n",
    "      \n",
    "      self.config = read_yaml(config_filepath)\n",
    "      self.params = read_yaml(params_filepath)\n",
    "      self.schema = read_yaml(schema_filepath)\n",
    "      \n",
    "      create_directories([self.config.artifacts_root])\n",
    "      \n",
    "   def get_model_evaluation_config(self) -> ModelEvaluationConfig:\n",
    "      config = self.config.model_evaluation\n",
    "      params = self.params.ElasticNet\n",
    "      schema = self.schema.TARGET_COLUMN\n",
    "      \n",
    "      create_directories([config.root_dir])\n",
    "      \n",
    "      model_evaluation_config = ModelEvaluationConfig(\n",
    "         root_dir = config.root_dir,\n",
    "         test_data_path = config.test_data_path,\n",
    "         model_path = config.model_path,\n",
    "         all_params = params,\n",
    "         metric_file_name = config.metric_file_name,\n",
    "         target_column = schema.name,\n",
    "         mlflow_uri = \"https://dagshub.com/appdoh2007/End-to-end-Machine-Learning-project-with-MLflow.mlflow\",\n",
    "      )\n",
    "      \n",
    "      return model_evaluation_config"
   ]
  },
  {
   "cell_type": "code",
   "execution_count": 24,
   "metadata": {},
   "outputs": [],
   "source": [
    "import os\n",
    "import pandas as pd\n",
    "from sklearn.metrics import mean_squared_error, mean_absolute_error, r2_score\n",
    "from urllib.parse import urlparse\n",
    "import mlflow\n",
    "import mlflow.sklearn\n",
    "import numpy as np\n",
    "import joblib\n",
    "import json\n",
    "from mlProject.utils.common import save_json"
   ]
  },
  {
   "cell_type": "code",
   "execution_count": 25,
   "metadata": {},
   "outputs": [],
   "source": [
    "class ModelEvaluation:\n",
    "   def __init__(self, config: ModelEvaluationConfig):\n",
    "      self.config = config\n",
    "      \n",
    "   def eval_metrics(self, actual, pred):\n",
    "      rmse = np.sqrt(mean_squared_error(actual, pred))\n",
    "      mae = mean_absolute_error(actual, pred)\n",
    "      r2 = r2_score(actual, pred)\n",
    "      return rmse, mae, r2\n",
    "   \n",
    "   \n",
    "   def log_into_mlflow(self):\n",
    "      \n",
    "      test_data = pd.read_csv(self.config.test_data_path)\n",
    "      model = joblib.load(self.config.model_path)\n",
    "      \n",
    "      test_x = test_data.drop([self.config.target_column], axis=1)\n",
    "      test_y = test_data[[self.config.target_column]]\n",
    "      \n",
    "      mlflow.set_tracking_uri(self.config.mlflow_uri)\n",
    "      tracking_uri_type_store = urlparse(mlflow.get_tracking_uri()).scheme\n",
    "      \n",
    "      \n",
    "      with mlflow.start_run():\n",
    "         predicted_qualities = model.predict(test_x)\n",
    "         \n",
    "         (rmse, mae, r2) = self.eval_metrics(test_y, predicted_qualities)\n",
    "         \n",
    "         # Saving metrics as local\n",
    "         scores = {\"rmse\": rmse, \"mae\": mae, \"r2\": r2}\n",
    "         save_json(path=Path(self.config.metric_file_name), data=scores)\n",
    "         \n",
    "         mlflow.log_param(self.config.all_params)\n",
    "         \n",
    "         mlflow.log_metric(\"rmse\", rmse)\n",
    "         mlflow.log_metric(\"r2\", r2)\n",
    "         mlflow.log_metric(\"mae\", mae)\n",
    "         \n",
    "        # Model registry does not work with file store\n",
    "         if tracking_uri_type_store != \"file\":\n",
    "            \n",
    "            mlflow.sklearn.log_model(model, \"model\", registered_model_name=\"ElasticNetModel\")\n",
    "         else:\n",
    "            mlflow.sklearn.log_model(model, \"model\")           "
   ]
  },
  {
   "cell_type": "code",
   "execution_count": 26,
   "metadata": {},
   "outputs": [
    {
     "name": "stdout",
     "output_type": "stream",
     "text": [
      "[2024-02-03 08:07:13,983: INFO: common] yaml file: config\\config.yaml loaded successfully\n",
      "[2024-02-03 08:07:13,984: INFO: common] yaml file: params.yaml loaded successfully\n",
      "[2024-02-03 08:07:13,985: INFO: common] yaml file: schema.yaml loaded successfully\n",
      "[2024-02-03 08:07:13,985: INFO: common] created directory at: artifacts\n"
     ]
    },
    {
     "ename": "AttributeError",
     "evalue": "'ConfigurationManager' object has no attribute 'get_model_evaluation_config'",
     "output_type": "error",
     "traceback": [
      "\u001b[1;31m---------------------------------------------------------------------------\u001b[0m",
      "\u001b[1;31mAttributeError\u001b[0m                            Traceback (most recent call last)",
      "Cell \u001b[1;32mIn[26], line 7\u001b[0m\n\u001b[0;32m      5\u001b[0m     model_evaluation_config\u001b[38;5;241m.\u001b[39mtrain()\n\u001b[0;32m      6\u001b[0m \u001b[38;5;28;01mexcept\u001b[39;00m \u001b[38;5;167;01mException\u001b[39;00m \u001b[38;5;28;01mas\u001b[39;00m e:\n\u001b[1;32m----> 7\u001b[0m     \u001b[38;5;28;01mraise\u001b[39;00m e\n",
      "Cell \u001b[1;32mIn[26], line 3\u001b[0m\n\u001b[0;32m      1\u001b[0m \u001b[38;5;28;01mtry\u001b[39;00m:\n\u001b[0;32m      2\u001b[0m     config \u001b[38;5;241m=\u001b[39m ConfigurationManager()\n\u001b[1;32m----> 3\u001b[0m     model_evaluation_config \u001b[38;5;241m=\u001b[39m \u001b[43mconfig\u001b[49m\u001b[38;5;241;43m.\u001b[39;49m\u001b[43mget_model_evaluation_config\u001b[49m()\n\u001b[0;32m      4\u001b[0m     model_evaluation_config \u001b[38;5;241m=\u001b[39m ModelEvaluation(config\u001b[38;5;241m=\u001b[39mmodel_evaluation_config)\n\u001b[0;32m      5\u001b[0m     model_evaluation_config\u001b[38;5;241m.\u001b[39mtrain()\n",
      "\u001b[1;31mAttributeError\u001b[0m: 'ConfigurationManager' object has no attribute 'get_model_evaluation_config'"
     ]
    }
   ],
   "source": [
    "try:\n",
    "    config = ConfigurationManager()\n",
    "    model_evaluation_config = config.get_model_evaluation_config()\n",
    "    model_evaluation_config = ModelEvaluation(config=model_evaluation_config)\n",
    "    model_evaluation_config.train()\n",
    "except Exception as e:\n",
    "    raise e"
   ]
  },
  {
   "cell_type": "code",
   "execution_count": null,
   "metadata": {},
   "outputs": [],
   "source": []
  }
 ],
 "metadata": {
  "kernelspec": {
   "display_name": "mlproj",
   "language": "python",
   "name": "python3"
  },
  "language_info": {
   "codemirror_mode": {
    "name": "ipython",
    "version": 3
   },
   "file_extension": ".py",
   "mimetype": "text/x-python",
   "name": "python",
   "nbconvert_exporter": "python",
   "pygments_lexer": "ipython3",
   "version": "3.8.18"
  }
 },
 "nbformat": 4,
 "nbformat_minor": 2
}
