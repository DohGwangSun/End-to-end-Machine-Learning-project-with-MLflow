import unittest
from your_module import YourClass

class TestYourClass(unittest.TestCase):
    def setUp(self):
        # Initialize your class instance here if needed
        self.your_class = YourClass()

    def test_get_model_evaluation_config(self):
        # Call the function and get the result
        result = self.your_class.get_model_evaluation_config()

        # Assert that the result is of type ModelEvaluationConfig
        self.assertIsInstance(result, ModelEvaluationConfig)

        # Assert that the root_dir is set correctly
        self.assertEqual(result.root_dir, "your_root_dir")

        # Assert that the test_data_path is set correctly
        self.assertEqual(result.test_data_path, "your_test_data_path")

        # Assert that the model_path is set correctly
        self.assertEqual(result.model_path, "your_model_path")

        # Assert that the all_params is set correctly
        self.assertEqual(result.all_params, "your_all_params")

        # Assert that the metric_file_name is set correctly
        self.assertEqual(result.metric_file_name, "your_metric_file_name")

        # Assert that the target_column is set correctly
        self.assertEqual(result.target_column, "your_target_column")

        # Assert that the mlflow_uri is set correctly
        self.assertEqual(result.mlflow_uri, "your_mlflow_uri")

if __name__ == '__main__':
    unittest.main()